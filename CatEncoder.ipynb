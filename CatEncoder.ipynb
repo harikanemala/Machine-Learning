{
  "nbformat": 4,
  "nbformat_minor": 0,
  "metadata": {
    "colab": {
      "provenance": [],
      "authorship_tag": "ABX9TyMHYn8gV0bduxvVNtTtQzUW",
      "include_colab_link": true
    },
    "kernelspec": {
      "name": "python3",
      "display_name": "Python 3"
    },
    "language_info": {
      "name": "python"
    }
  },
  "cells": [
    {
      "cell_type": "markdown",
      "metadata": {
        "id": "view-in-github",
        "colab_type": "text"
      },
      "source": [
        "<a href=\"https://colab.research.google.com/github/harikanemala/Machine-Learning/blob/main/CatEncoder.ipynb\" target=\"_parent\"><img src=\"https://colab.research.google.com/assets/colab-badge.svg\" alt=\"Open In Colab\"/></a>"
      ]
    },
    {
      "cell_type": "code",
      "execution_count": 1,
      "metadata": {
        "colab": {
          "base_uri": "https://localhost:8080/"
        },
        "id": "xFMIzFA9IYXt",
        "outputId": "ad3f704a-40f1-4d0e-89dc-9ae5d1af3667"
      },
      "outputs": [
        {
          "output_type": "stream",
          "name": "stdout",
          "text": [
            "Original Dataset:\n",
            "    Fruit\n",
            "0   Apple\n",
            "1  Banana\n",
            "2  Orange\n",
            "3   Apple\n",
            "4  Orange\n",
            "5  Banana\n",
            "6   Apple\n",
            "7  Orange\n",
            "8  Banana\n",
            "\n",
            "Dataset after Categorical Encoding:\n",
            "    Fruit  Fruit_Categorical\n",
            "0   Apple                  0\n",
            "1  Banana                  1\n",
            "2  Orange                  2\n",
            "3   Apple                  0\n",
            "4  Orange                  2\n",
            "5  Banana                  1\n",
            "6   Apple                  0\n",
            "7  Orange                  2\n",
            "8  Banana                  1\n",
            "\n",
            "Dataset after One-Hot Encoding:\n",
            "    Fruit  Fruit_Categorical  Fruit_Apple  Fruit_Banana  Fruit_Orange\n",
            "0   Apple                  0         True         False         False\n",
            "1  Banana                  1        False          True         False\n",
            "2  Orange                  2        False         False          True\n",
            "3   Apple                  0         True         False         False\n",
            "4  Orange                  2        False         False          True\n",
            "5  Banana                  1        False          True         False\n",
            "6   Apple                  0         True         False         False\n",
            "7  Orange                  2        False         False          True\n",
            "8  Banana                  1        False          True         False\n"
          ]
        }
      ],
      "source": [
        "import pandas as pd\n",
        "\n",
        "# Example dataset of fruits\n",
        "data = {\n",
        "    'Fruit': ['Apple', 'Banana', 'Orange', 'Apple', 'Orange', 'Banana', 'Apple', 'Orange', 'Banana']\n",
        "}\n",
        "\n",
        "# Convert into a DataFrame\n",
        "df = pd.DataFrame(data)\n",
        "\n",
        "# Display original data\n",
        "print(\"Original Dataset:\")\n",
        "print(df)\n",
        "\n",
        "# ---- 1. Categorical Encoding ----\n",
        "# We will encode the 'Fruit' column with integers (Categorical Encoding)\n",
        "df['Fruit_Categorical'] = pd.Categorical(df['Fruit']).codes\n",
        "\n",
        "# Display after Categorical Encoding\n",
        "print(\"\\nDataset after Categorical Encoding:\")\n",
        "print(df)\n",
        "\n",
        "# ---- 2. One-Hot Encoding ----\n",
        "# One-Hot Encoding will create a binary column for each category in the 'Fruit' column\n",
        "df_one_hot = pd.get_dummies(df['Fruit'], prefix='Fruit')\n",
        "\n",
        "# Display after One-Hot Encoding\n",
        "print(\"\\nDataset after One-Hot Encoding:\")\n",
        "print(pd.concat([df, df_one_hot], axis=1))\n"
      ]
    }
  ]
}