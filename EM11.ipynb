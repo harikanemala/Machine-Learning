{
  "nbformat": 4,
  "nbformat_minor": 0,
  "metadata": {
    "colab": {
      "provenance": [],
      "authorship_tag": "ABX9TyPXigpx03VQelpm4/5LtOiD",
      "include_colab_link": true
    },
    "kernelspec": {
      "name": "python3",
      "display_name": "Python 3"
    },
    "language_info": {
      "name": "python"
    }
  },
  "cells": [
    {
      "cell_type": "markdown",
      "metadata": {
        "id": "view-in-github",
        "colab_type": "text"
      },
      "source": [
        "<a href=\"https://colab.research.google.com/github/harikanemala/Machine-Learning/blob/main/EM11.ipynb\" target=\"_parent\"><img src=\"https://colab.research.google.com/assets/colab-badge.svg\" alt=\"Open In Colab\"/></a>"
      ]
    },
    {
      "cell_type": "code",
      "execution_count": 1,
      "metadata": {
        "colab": {
          "base_uri": "https://localhost:8080/"
        },
        "id": "tMvwJtK4K63-",
        "outputId": "1e6c2d1c-8cc3-4eb2-8ace-9327ba14e809"
      },
      "outputs": [
        {
          "output_type": "stream",
          "name": "stdout",
          "text": [
            "Silhouette Score for EM Algorithm (GMM): 0.14\n",
            "Silhouette Score for K-Means Algorithm: 0.15\n",
            "\n",
            "Cluster Distribution (EM Algorithm):\n",
            "1    71\n",
            "2    66\n",
            "0    63\n",
            "Name: count, dtype: int64\n",
            "\n",
            "Cluster Distribution (K-Means Algorithm):\n",
            "1    79\n",
            "2    61\n",
            "0    60\n",
            "Name: count, dtype: int64\n",
            "\n",
            "The K-Means Algorithm provides better clustering quality.\n"
          ]
        }
      ],
      "source": [
        "\n",
        "import numpy as np\n",
        "import pandas as pd\n",
        "from sklearn.mixture import GaussianMixture\n",
        "from sklearn.cluster import KMeans\n",
        "from sklearn.preprocessing import StandardScaler\n",
        "from sklearn.metrics import silhouette_score\n",
        "\n",
        "# Load the Heart Disease Dataset (using a sample dataset)\n",
        "# For demonstration purposes, we'll create a synthetic dataset\n",
        "np.random.seed(42)\n",
        "data = np.random.rand(200, 5)  # 200 samples, 5 features\n",
        "columns = ['Age', 'Cholesterol', 'Blood Pressure', 'Max Heart Rate', 'Oldpeak']\n",
        "df = pd.DataFrame(data, columns=columns)\n",
        "\n",
        "# Feature scaling\n",
        "scaler = StandardScaler()\n",
        "df_scaled = scaler.fit_transform(df)\n",
        "\n",
        "# Applying EM Algorithm (Gaussian Mixture Model)\n",
        "EM_model = GaussianMixture(n_components=3, random_state=42)\n",
        "EM_labels = EM_model.fit_predict(df_scaled)\n",
        "\n",
        "# Applying K-Means Algorithm\n",
        "KMeans_model = KMeans(n_clusters=3, random_state=42)\n",
        "KMeans_labels = KMeans_model.fit_predict(df_scaled)\n",
        "\n",
        "# Comparing the results using Silhouette Score\n",
        "silhouette_em = silhouette_score(df_scaled, EM_labels)\n",
        "silhouette_kmeans = silhouette_score(df_scaled, KMeans_labels)\n",
        "\n",
        "# Displaying the results\n",
        "print(f'Silhouette Score for EM Algorithm (GMM): {silhouette_em:.2f}')\n",
        "print(f'Silhouette Score for K-Means Algorithm: {silhouette_kmeans:.2f}')\n",
        "\n",
        "# Display cluster distribution\n",
        "print(\"\\nCluster Distribution (EM Algorithm):\")\n",
        "print(pd.Series(EM_labels).value_counts())\n",
        "\n",
        "print(\"\\nCluster Distribution (K-Means Algorithm):\")\n",
        "print(pd.Series(KMeans_labels).value_counts())\n",
        "\n",
        "# Comments on Clustering Quality\n",
        "if silhouette_em > silhouette_kmeans:\n",
        "    print(\"\\nThe EM Algorithm (GMM) provides better clustering quality.\")\n",
        "else:\n",
        "    print(\"\\nThe K-Means Algorithm provides better clustering quality.\")\n",
        "\n"
      ]
    }
  ]
}