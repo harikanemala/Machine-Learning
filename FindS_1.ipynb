{
  "nbformat": 4,
  "nbformat_minor": 0,
  "metadata": {
    "colab": {
      "provenance": [],
      "authorship_tag": "ABX9TyMqzV6Nl1FzE7IMy2rIwBqh",
      "include_colab_link": true
    },
    "kernelspec": {
      "name": "python3",
      "display_name": "Python 3"
    },
    "language_info": {
      "name": "python"
    }
  },
  "cells": [
    {
      "cell_type": "markdown",
      "metadata": {
        "id": "view-in-github",
        "colab_type": "text"
      },
      "source": [
        "<a href=\"https://colab.research.google.com/github/harikanemala/Machine-Learning/blob/main/FindS_1.ipynb\" target=\"_parent\"><img src=\"https://colab.research.google.com/assets/colab-badge.svg\" alt=\"Open In Colab\"/></a>"
      ]
    },
    {
      "cell_type": "code",
      "execution_count": 1,
      "metadata": {
        "colab": {
          "base_uri": "https://localhost:8080/"
        },
        "id": "CxQa14VNDIAj",
        "outputId": "c2b51c83-22cd-4bbd-82b5-a25f4530328b"
      },
      "outputs": [
        {
          "output_type": "stream",
          "name": "stdout",
          "text": [
            "Most specific hypothesis: ['?', '?', '?', '?']\n",
            "Classification of new sample: Yes\n"
          ]
        }
      ],
      "source": [
        "import csv\n",
        "\n",
        "# FIND-S Algorithm Implementation\n",
        "def find_s_algorithm(training_data):\n",
        "    # Initialize hypothesis to the most specific hypothesis\n",
        "    hypothesis = training_data[0][:-1]  # Exclude class label (last element)\n",
        "\n",
        "    # Iterate over the training data\n",
        "    for instance in training_data:\n",
        "        # If the class label is \"Yes\" (positive class)\n",
        "        if instance[-1] == \"Yes\":\n",
        "            for i in range(len(hypothesis)):\n",
        "                # If the hypothesis attribute is not equal to the instance attribute\n",
        "                # or if the hypothesis attribute is '?', update the hypothesis\n",
        "                if hypothesis[i] != instance[i] and hypothesis[i] != \"?\":\n",
        "                    hypothesis[i] = \"?\"  # '?' means this attribute can be anything\n",
        "\n",
        "    return hypothesis\n",
        "\n",
        "# Example Training Data (as if read from a CSV)\n",
        "# [Outlook, Temperature, Humidity, Wind, PlayTennis]\n",
        "training_data = [\n",
        "    ['Sunny', 'Hot', 'High', 'Weak', 'No'],\n",
        "    ['Sunny', 'Hot', 'High', 'Strong', 'No'],\n",
        "    ['Overcast', 'Hot', 'High', 'Weak', 'Yes'],\n",
        "    ['Rain', 'Mild', 'High', 'Weak', 'Yes'],\n",
        "    ['Rain', 'Cool', 'Normal', 'Weak', 'Yes'],\n",
        "    ['Rain', 'Cool', 'Normal', 'Strong', 'No'],\n",
        "    ['Overcast', 'Cool', 'Normal', 'Strong', 'Yes'],\n",
        "    ['Sunny', 'Mild', 'High', 'Weak', 'No'],\n",
        "    ['Sunny', 'Cool', 'Normal', 'Weak', 'Yes'],\n",
        "    ['Rain', 'Mild', 'Normal', 'Weak', 'Yes'],\n",
        "    ['Sunny', 'Mild', 'Normal', 'Strong', 'Yes'],\n",
        "    ['Overcast', 'Mild', 'High', 'Strong', 'Yes'],\n",
        "    ['Overcast', 'Hot', 'Normal', 'Weak', 'Yes'],\n",
        "    ['Rain', 'Mild', 'High', 'Strong', 'No']\n",
        "]\n",
        "\n",
        "# Apply the FIND-S Algorithm\n",
        "hypothesis = find_s_algorithm(training_data)\n",
        "\n",
        "# Print the most specific hypothesis\n",
        "print(\"Most specific hypothesis:\", hypothesis)\n",
        "\n",
        "# Testing the hypothesis on a new sample\n",
        "# Let's assume a new sample: ['Sunny', 'Mild', 'High', 'Weak']\n",
        "new_sample = ['Sunny', 'Mild', 'High', 'Weak']\n",
        "\n",
        "# Classify the new sample based on the hypothesis\n",
        "def classify_sample(hypothesis, sample):\n",
        "    for i in range(len(hypothesis)):\n",
        "        if hypothesis[i] != \"?\" and hypothesis[i] != sample[i]:\n",
        "            return \"No\"\n",
        "    return \"Yes\"\n",
        "\n",
        "# Classifying the new sample using the hypothesis\n",
        "classification = classify_sample(hypothesis, new_sample)\n",
        "print(\"Classification of new sample:\", classification)\n"
      ]
    }
  ]
}