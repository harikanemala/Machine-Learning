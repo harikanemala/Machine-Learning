{
  "nbformat": 4,
  "nbformat_minor": 0,
  "metadata": {
    "colab": {
      "provenance": [],
      "authorship_tag": "ABX9TyOz9h3EROOO2GFh1/tv1zmD",
      "include_colab_link": true
    },
    "kernelspec": {
      "name": "python3",
      "display_name": "Python 3"
    },
    "language_info": {
      "name": "python"
    }
  },
  "cells": [
    {
      "cell_type": "markdown",
      "metadata": {
        "id": "view-in-github",
        "colab_type": "text"
      },
      "source": [
        "<a href=\"https://colab.research.google.com/github/harikanemala/Machine-Learning/blob/main/Bias5.ipynb\" target=\"_parent\"><img src=\"https://colab.research.google.com/assets/colab-badge.svg\" alt=\"Open In Colab\"/></a>"
      ]
    },
    {
      "cell_type": "code",
      "execution_count": 1,
      "metadata": {
        "colab": {
          "base_uri": "https://localhost:8080/"
        },
        "id": "UXVSfersHIM7",
        "outputId": "fa7abc19-b40a-4273-a935-6d24ef2794d1"
      },
      "outputs": [
        {
          "output_type": "stream",
          "name": "stdout",
          "text": [
            "Dataset after removing duplicates:\n",
            "   Feature1  Feature2  Target\n",
            "0         1         5       1\n",
            "1         2         4       2\n",
            "2         3         3       1\n",
            "3         4         2       2\n",
            "4         5         1       1\n",
            "5         6        10       2\n",
            "6         7         9       1\n",
            "7         8         8       2\n",
            "8         9         7       1\n",
            "9        10         6       2\n",
            "Linear Regression - Cross-validation MSE scores: [-0.27777778 -0.3067602  -1.         -0.3067602  -0.27777778]\n",
            "Linear Regression - Mean Cross-validation MSE: -0.43381519274376423\n",
            "Linear Regression - Standard Deviation of Cross-validation MSE: 0.2833889644972734\n",
            "Decision Tree - Cross-validation MSE scores: [-0.5 -1.  -1.  -1.  -0.5]\n",
            "Decision Tree - Mean Cross-validation MSE: -0.8\n",
            "Decision Tree - Standard Deviation of Cross-validation MSE: 0.2449489742783178\n",
            "\n",
            "Bias and Variance for Linear Regression:\n",
            "Bias: -0.5632653061224491\n",
            "Variance: 1.2979591836734696\n",
            "\n",
            "Bias and Variance for Decision Tree:\n",
            "Bias: -1.0\n",
            "Variance: 2.0\n"
          ]
        }
      ],
      "source": [
        "import numpy as np\n",
        "import pandas as pd\n",
        "from sklearn.model_selection import train_test_split, cross_val_score, KFold\n",
        "from sklearn.linear_model import LinearRegression\n",
        "from sklearn.tree import DecisionTreeRegressor\n",
        "from sklearn.metrics import mean_squared_error\n",
        "\n",
        "# Sample data (synthetic)\n",
        "data = {\n",
        "    'Feature1': [1, 2, 3, 4, 5, 6, 7, 8, 9, 10],\n",
        "    'Feature2': [5, 4, 3, 2, 1, 10, 9, 8, 7, 6],\n",
        "    'Target': [1, 2, 1, 2, 1, 2, 1, 2, 1, 2]\n",
        "}\n",
        "\n",
        "df = pd.DataFrame(data)\n",
        "\n",
        "# 1. Removing Duplicates\n",
        "df_no_duplicates = df.drop_duplicates()\n",
        "print(\"Dataset after removing duplicates:\")\n",
        "print(df_no_duplicates)\n",
        "\n",
        "# 2. Cross-Validation\n",
        "\n",
        "# Features and target\n",
        "X = df_no_duplicates.drop('Target', axis=1)\n",
        "y = df_no_duplicates['Target']\n",
        "\n",
        "# Train-test split\n",
        "X_train, X_test, y_train, y_test = train_test_split(X, y, test_size=0.2, random_state=42)\n",
        "\n",
        "# Models for comparison (Linear Regression and Decision Tree)\n",
        "models = {\n",
        "    \"Linear Regression\": LinearRegression(),\n",
        "    \"Decision Tree\": DecisionTreeRegressor()\n",
        "}\n",
        "\n",
        "# Perform 5-fold Cross Validation for each model\n",
        "for model_name, model in models.items():\n",
        "    scores = cross_val_score(model, X, y, cv=5, scoring='neg_mean_squared_error')\n",
        "    print(f\"{model_name} - Cross-validation MSE scores: {scores}\")\n",
        "    print(f\"{model_name} - Mean Cross-validation MSE: {scores.mean()}\")\n",
        "    print(f\"{model_name} - Standard Deviation of Cross-validation MSE: {scores.std()}\")\n",
        "\n",
        "# 3. Bias and Variance Calculation\n",
        "\n",
        "# Bias is measured using the error of the model on the training set\n",
        "# Variance is measured by the difference between training error and test error\n",
        "\n",
        "# Initialize models\n",
        "linear_model = LinearRegression()\n",
        "tree_model = DecisionTreeRegressor()\n",
        "\n",
        "# Train models\n",
        "linear_model.fit(X_train, y_train)\n",
        "tree_model.fit(X_train, y_train)\n",
        "\n",
        "# Predict on test set\n",
        "linear_predictions = linear_model.predict(X_test)\n",
        "tree_predictions = tree_model.predict(X_test)\n",
        "\n",
        "# Calculate MSE (Mean Squared Error) for both models on test data\n",
        "linear_test_error = mean_squared_error(y_test, linear_predictions)\n",
        "tree_test_error = mean_squared_error(y_test, tree_predictions)\n",
        "\n",
        "# Training error for linear model\n",
        "linear_train_predictions = linear_model.predict(X_train)\n",
        "linear_train_error = mean_squared_error(y_train, linear_train_predictions)\n",
        "\n",
        "# Training error for decision tree\n",
        "tree_train_predictions = tree_model.predict(X_train)\n",
        "tree_train_error = mean_squared_error(y_train, tree_train_predictions)\n",
        "\n",
        "# Bias and Variance Calculation\n",
        "def calculate_bias_variance(train_error, test_error):\n",
        "    bias = train_error - test_error\n",
        "    variance = test_error - bias\n",
        "    return bias, variance\n",
        "\n",
        "# Bias and Variance for both models\n",
        "linear_bias, linear_variance = calculate_bias_variance(linear_train_error, linear_test_error)\n",
        "tree_bias, tree_variance = calculate_bias_variance(tree_train_error, tree_test_error)\n",
        "\n",
        "# Display Bias and Variance\n",
        "print(\"\\nBias and Variance for Linear Regression:\")\n",
        "print(f\"Bias: {linear_bias}\")\n",
        "print(f\"Variance: {linear_variance}\")\n",
        "\n",
        "print(\"\\nBias and Variance for Decision Tree:\")\n",
        "print(f\"Bias: {tree_bias}\")\n",
        "print(f\"Variance: {tree_variance}\")\n",
        "\n"
      ]
    }
  ]
}