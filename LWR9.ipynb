{
  "nbformat": 4,
  "nbformat_minor": 0,
  "metadata": {
    "colab": {
      "provenance": [],
      "authorship_tag": "ABX9TyMCdbV0e6kosPFq7dCf2PrU",
      "include_colab_link": true
    },
    "kernelspec": {
      "name": "python3",
      "display_name": "Python 3"
    },
    "language_info": {
      "name": "python"
    }
  },
  "cells": [
    {
      "cell_type": "markdown",
      "metadata": {
        "id": "view-in-github",
        "colab_type": "text"
      },
      "source": [
        "<a href=\"https://colab.research.google.com/github/harikanemala/Machine-Learning/blob/main/LWR9.ipynb\" target=\"_parent\"><img src=\"https://colab.research.google.com/assets/colab-badge.svg\" alt=\"Open In Colab\"/></a>"
      ]
    },
    {
      "cell_type": "code",
      "execution_count": 2,
      "metadata": {
        "colab": {
          "base_uri": "https://localhost:8080/"
        },
        "id": "cFxXjm_BKRej",
        "outputId": "da9606e5-e021-4fa2-f36d-788d2d48b6b7"
      },
      "outputs": [
        {
          "output_type": "stream",
          "name": "stdout",
          "text": [
            "Test Accuracy: 100.00%\n",
            "Correct Prediction: Actual = 1, Predicted = 1\n",
            "Correct Prediction: Actual = 0, Predicted = 0\n",
            "Correct Prediction: Actual = 2, Predicted = 2\n",
            "Correct Prediction: Actual = 1, Predicted = 1\n",
            "Correct Prediction: Actual = 1, Predicted = 1\n",
            "Correct Prediction: Actual = 0, Predicted = 0\n",
            "Correct Prediction: Actual = 1, Predicted = 1\n",
            "Correct Prediction: Actual = 2, Predicted = 2\n",
            "Correct Prediction: Actual = 1, Predicted = 1\n",
            "Correct Prediction: Actual = 1, Predicted = 1\n",
            "Correct Prediction: Actual = 2, Predicted = 2\n",
            "Correct Prediction: Actual = 0, Predicted = 0\n",
            "Correct Prediction: Actual = 0, Predicted = 0\n",
            "Correct Prediction: Actual = 0, Predicted = 0\n",
            "Correct Prediction: Actual = 0, Predicted = 0\n",
            "Correct Prediction: Actual = 1, Predicted = 1\n",
            "Correct Prediction: Actual = 2, Predicted = 2\n",
            "Correct Prediction: Actual = 1, Predicted = 1\n",
            "Correct Prediction: Actual = 1, Predicted = 1\n",
            "Correct Prediction: Actual = 2, Predicted = 2\n",
            "Correct Prediction: Actual = 0, Predicted = 0\n",
            "Correct Prediction: Actual = 2, Predicted = 2\n",
            "Correct Prediction: Actual = 0, Predicted = 0\n",
            "Correct Prediction: Actual = 2, Predicted = 2\n",
            "Correct Prediction: Actual = 2, Predicted = 2\n",
            "Correct Prediction: Actual = 2, Predicted = 2\n",
            "Correct Prediction: Actual = 2, Predicted = 2\n",
            "Correct Prediction: Actual = 2, Predicted = 2\n",
            "Correct Prediction: Actual = 0, Predicted = 0\n",
            "Correct Prediction: Actual = 0, Predicted = 0\n"
          ]
        }
      ],
      "source": [
        "\n",
        "\n",
        "import numpy as np\n",
        "from sklearn.datasets import load_iris\n",
        "from sklearn.model_selection import train_test_split\n",
        "from sklearn.metrics import accuracy_score\n",
        "from collections import Counter\n",
        "\n",
        "# Load Iris dataset\n",
        "iris = load_iris()\n",
        "X = iris.data\n",
        "y = iris.target\n",
        "\n",
        "# Split the data\n",
        "X_train, X_test, y_train, y_test = train_test_split(X, y, test_size=0.2, random_state=42)\n",
        "\n",
        "# Euclidean distance function\n",
        "def euclidean_distance(x1, x2):\n",
        "    return np.sqrt(np.sum((x1 - x2) ** 2))\n",
        "\n",
        "# k-Nearest Neighbor Algorithm\n",
        "def knn(X_train, y_train, X_test, k=3):\n",
        "    predictions = []\n",
        "    for test_point in X_test:\n",
        "        # Calculate distances to all training points\n",
        "        distances = [euclidean_distance(test_point, train_point) for train_point in X_train]\n",
        "\n",
        "        # Get indices of k nearest neighbors\n",
        "        k_indices = np.argsort(distances)[:k]\n",
        "\n",
        "        # Get the labels of the k nearest neighbors\n",
        "        k_nearest_labels = [y_train[i] for i in k_indices]\n",
        "\n",
        "        # Majority vote\n",
        "        most_common = Counter(k_nearest_labels).most_common(1)\n",
        "        predictions.append(most_common[0][0])\n",
        "    return np.array(predictions)\n",
        "\n",
        "# Classify using k-NN\n",
        "k = 3\n",
        "predictions = knn(X_train, y_train, X_test, k)\n",
        "\n",
        "# Evaluate accuracy\n",
        "accuracy = accuracy_score(y_test, predictions)\n",
        "print(f'Test Accuracy: {accuracy * 100:.2f}%')\n",
        "\n",
        "# Print correct and wrong predictions\n",
        "for i in range(len(y_test)):\n",
        "    if predictions[i] == y_test[i]:\n",
        "        print(f'Correct Prediction: Actual = {y_test[i]}, Predicted = {predictions[i]}')\n",
        "    else:\n",
        "        print(f'Wrong Prediction: Actual = {y_test[i]}, Predicted = {predictions[i]}')\n"
      ]
    }
  ]
}