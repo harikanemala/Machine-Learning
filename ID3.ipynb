{
  "nbformat": 4,
  "nbformat_minor": 0,
  "metadata": {
    "colab": {
      "provenance": [],
      "authorship_tag": "ABX9TyM1Hp/sPhQv6Ug1Txcn7ko3",
      "include_colab_link": true
    },
    "kernelspec": {
      "name": "python3",
      "display_name": "Python 3"
    },
    "language_info": {
      "name": "python"
    }
  },
  "cells": [
    {
      "cell_type": "markdown",
      "metadata": {
        "id": "view-in-github",
        "colab_type": "text"
      },
      "source": [
        "<a href=\"https://colab.research.google.com/github/harikanemala/Machine-Learning/blob/main/ID3.ipynb\" target=\"_parent\"><img src=\"https://colab.research.google.com/assets/colab-badge.svg\" alt=\"Open In Colab\"/></a>"
      ]
    },
    {
      "cell_type": "code",
      "execution_count": 5,
      "metadata": {
        "colab": {
          "base_uri": "https://localhost:8080/"
        },
        "id": "AOzIvJ_3BEE5",
        "outputId": "3d953fa6-b436-4b75-dcf0-fe697edb759e"
      },
      "outputs": [
        {
          "output_type": "stream",
          "name": "stdout",
          "text": [
            "Decision Tree: {0: {'Sunny': {2: {'Normal': 'Yes', 'High': 'No'}}, 'Rain': {3: {'Strong': 'No', 'Weak': 'Yes'}}, 'Overcast': 'Yes'}}\n",
            "Predicted class for the new sample: No\n"
          ]
        }
      ],
      "source": [
        "import math\n",
        "from collections import Counter\n",
        "\n",
        "# Define the entropy function\n",
        "def entropy(data):\n",
        "    total = len(data)\n",
        "    counts = Counter([row[-1] for row in data])\n",
        "    ent = 0\n",
        "    for count in counts.values():\n",
        "        p = count / total\n",
        "        ent -= p * math.log2(p)\n",
        "    return ent\n",
        "\n",
        "# Function to calculate the information gain\n",
        "def information_gain(data, attribute_index):\n",
        "    total_entropy = entropy(data)\n",
        "    values = set([row[attribute_index] for row in data])\n",
        "    weighted_entropy = 0\n",
        "\n",
        "    for value in values:\n",
        "        subset = [row for row in data if row[attribute_index] == value]\n",
        "        weighted_entropy += (len(subset) / len(data)) * entropy(subset)\n",
        "\n",
        "    return total_entropy - weighted_entropy\n",
        "\n",
        "# Function to choose the best attribute based on information gain\n",
        "def best_attribute(data):\n",
        "    num_attributes = len(data[0]) - 1  # last column is the class label\n",
        "    gains = []\n",
        "\n",
        "    for i in range(num_attributes):\n",
        "        gains.append((i, information_gain(data, i)))\n",
        "\n",
        "    best_attr_index = max(gains, key=lambda x: x[1])[0]\n",
        "    return best_attr_index\n",
        "\n",
        "# Function to split data based on the attribute\n",
        "def split_data(data, attribute_index):\n",
        "    values = set([row[attribute_index] for row in data])\n",
        "    subsets = {}\n",
        "\n",
        "    for value in values:\n",
        "        subsets[value] = [row for row in data if row[attribute_index] == value]\n",
        "\n",
        "    return subsets\n",
        "\n",
        "# Function to create the decision tree\n",
        "def create_tree(data, attributes=None):\n",
        "    # Base case: if all data have the same class\n",
        "    if len(set([row[-1] for row in data])) == 1:\n",
        "        return data[0][-1]\n",
        "\n",
        "    # Base case: if no attributes left to split\n",
        "    if not attributes:\n",
        "        return Counter([row[-1] for row in data]).most_common(1)[0][0]\n",
        "\n",
        "    best_attr = best_attribute(data)\n",
        "    tree = {best_attr: {}}\n",
        "    subsets = split_data(data, best_attr)\n",
        "\n",
        "    # Recursively create the tree for each subset\n",
        "    for value, subset in subsets.items():\n",
        "        tree[best_attr][value] = create_tree(subset, [attr for attr in attributes if attr != best_attr])\n",
        "\n",
        "    return tree\n",
        "\n",
        "# Function to classify a new sample using the decision tree\n",
        "def classify(tree, sample):\n",
        "    if isinstance(tree, dict):\n",
        "        attribute = list(tree.keys())[0]\n",
        "        value = sample[attribute]\n",
        "        return classify(tree[attribute][value], sample)\n",
        "    else:\n",
        "        return tree\n",
        "\n",
        "# Example Dataset: Play Tennis Dataset\n",
        "# Attributes: Outlook, Temperature, Humidity, Wind\n",
        "# Class: PlayTennis (Yes/No)\n",
        "dataset = [\n",
        "    ['Sunny', 'Hot', 'High', 'Weak', 'No'],\n",
        "    ['Sunny', 'Hot', 'High', 'Strong', 'No'],\n",
        "    ['Overcast', 'Hot', 'High', 'Weak', 'Yes'],\n",
        "    ['Rain', 'Mild', 'High', 'Weak', 'Yes'],\n",
        "    ['Rain', 'Cool', 'Normal', 'Weak', 'Yes'],\n",
        "    ['Rain', 'Cool', 'Normal', 'Strong', 'No'],\n",
        "    ['Overcast', 'Cool', 'Normal', 'Strong', 'Yes'],\n",
        "    ['Sunny', 'Mild', 'High', 'Weak', 'No'],\n",
        "    ['Sunny', 'Cool', 'Normal', 'Weak', 'Yes'],\n",
        "    ['Rain', 'Mild', 'Normal', 'Weak', 'Yes'],\n",
        "    ['Sunny', 'Mild', 'Normal', 'Strong', 'Yes'],\n",
        "    ['Overcast', 'Mild', 'High', 'Strong', 'Yes'],\n",
        "    ['Overcast', 'Hot', 'Normal', 'Weak', 'Yes'],\n",
        "    ['Rain', 'Mild', 'High', 'Strong', 'No']\n",
        "]\n",
        "\n",
        "# Building the decision tree\n",
        "tree = create_tree(dataset, attributes=[0, 1, 2, 3])  # Using the indices of the attributes\n",
        "print(\"Decision Tree:\", tree)\n",
        "\n",
        "# Classifying a new sample\n",
        "new_sample = ['Sunny', 'Mild', 'High', 'Strong']  # Example to classify\n",
        "predicted_class = classify(tree, new_sample)\n",
        "print(\"Predicted class for the new sample:\", predicted_class)\n"
      ]
    }
  ]
}