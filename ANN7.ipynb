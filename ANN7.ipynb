{
  "nbformat": 4,
  "nbformat_minor": 0,
  "metadata": {
    "colab": {
      "provenance": [],
      "authorship_tag": "ABX9TyNx7Psg9SWbZ4+E5SpkhpFU",
      "include_colab_link": true
    },
    "kernelspec": {
      "name": "python3",
      "display_name": "Python 3"
    },
    "language_info": {
      "name": "python"
    }
  },
  "cells": [
    {
      "cell_type": "markdown",
      "metadata": {
        "id": "view-in-github",
        "colab_type": "text"
      },
      "source": [
        "<a href=\"https://colab.research.google.com/github/harikanemala/Machine-Learning/blob/main/ANN7.ipynb\" target=\"_parent\"><img src=\"https://colab.research.google.com/assets/colab-badge.svg\" alt=\"Open In Colab\"/></a>"
      ]
    },
    {
      "cell_type": "code",
      "execution_count": 2,
      "metadata": {
        "colab": {
          "base_uri": "https://localhost:8080/"
        },
        "id": "VYSp-PfAJTaB",
        "outputId": "cf2562b6-8976-4859-fe98-a73a88be228b"
      },
      "outputs": [
        {
          "output_type": "stream",
          "name": "stdout",
          "text": [
            "Epoch 100/1000, Loss: 0.02199348963733264\n",
            "Epoch 200/1000, Loss: 0.014452185659208265\n",
            "Epoch 300/1000, Loss: 0.011336929682582582\n",
            "Epoch 400/1000, Loss: 0.00955588950237865\n",
            "Epoch 500/1000, Loss: 0.008375979732485515\n",
            "Epoch 600/1000, Loss: 0.007524693759615193\n",
            "Epoch 700/1000, Loss: 0.006875209506634035\n",
            "Epoch 800/1000, Loss: 0.006359725652244902\n",
            "Epoch 900/1000, Loss: 0.005938379544738395\n",
            "Epoch 1000/1000, Loss: 0.005586046603738791\n",
            "Test Accuracy: 100.00%\n"
          ]
        }
      ],
      "source": [
        "\n",
        "import numpy as np\n",
        "from sklearn.datasets import load_iris\n",
        "from sklearn.model_selection import train_test_split\n",
        "from sklearn.preprocessing import StandardScaler\n",
        "\n",
        "# Load Iris dataset\n",
        "iris = load_iris()\n",
        "X = iris.data\n",
        "y = (iris.target != 0) * 1  # Binary classification: Setosa vs. others\n",
        "\n",
        "# Split the data\n",
        "X_train, X_test, y_train, y_test = train_test_split(X, y, test_size=0.2, random_state=42)\n",
        "\n",
        "# Feature scaling\n",
        "scaler = StandardScaler()\n",
        "X_train = scaler.fit_transform(X_train)\n",
        "X_test = scaler.transform(X_test)\n",
        "\n",
        "# Neural Network architecture\n",
        "input_size = X_train.shape[1]\n",
        "hidden_size = 5\n",
        "output_size = 1\n",
        "\n",
        "# Initialize weights\n",
        "np.random.seed(42)\n",
        "W1 = np.random.randn(input_size, hidden_size)\n",
        "b1 = np.zeros((1, hidden_size))\n",
        "W2 = np.random.randn(hidden_size, output_size)\n",
        "b2 = np.zeros((1, output_size))\n",
        "\n",
        "# Sigmoid activation function\n",
        "def sigmoid(x):\n",
        "    return 1 / (1 + np.exp(-x))\n",
        "\n",
        "def sigmoid_derivative(x):\n",
        "    return x * (1 - x)\n",
        "\n",
        "# Loss function (Binary Cross Entropy)\n",
        "def loss(y_true, y_pred):\n",
        "    return -np.mean(y_true * np.log(y_pred + 1e-8) + (1 - y_true) * np.log(1 - y_pred + 1e-8))\n",
        "\n",
        "# Training the ANN\n",
        "learning_rate = 0.1\n",
        "epochs = 1000\n",
        "\n",
        "for epoch in range(epochs):\n",
        "    # Forward propagation\n",
        "    z1 = np.dot(X_train, W1) + b1\n",
        "    a1 = sigmoid(z1)\n",
        "    z2 = np.dot(a1, W2) + b2\n",
        "    a2 = sigmoid(z2)\n",
        "\n",
        "    # Compute loss\n",
        "    loss_value = loss(y_train.reshape(-1, 1), a2)\n",
        "\n",
        "    # Backward propagation\n",
        "    error = y_train.reshape(-1, 1) - a2\n",
        "    d_z2 = error * sigmoid_derivative(a2)\n",
        "    d_W2 = np.dot(a1.T, d_z2)\n",
        "    d_b2 = np.sum(d_z2, axis=0, keepdims=True)\n",
        "\n",
        "    d_a1 = np.dot(d_z2, W2.T)\n",
        "    d_z1 = d_a1 * sigmoid_derivative(a1)\n",
        "    d_W1 = np.dot(X_train.T, d_z1)\n",
        "    d_b1 = np.sum(d_z1, axis=0, keepdims=True)\n",
        "\n",
        "    # Update weights\n",
        "    W2 += learning_rate * d_W2\n",
        "    b2 += learning_rate * d_b2\n",
        "    W1 += learning_rate * d_W1\n",
        "    b1 += learning_rate * d_b1\n",
        "\n",
        "    if (epoch + 1) % 100 == 0:\n",
        "        print(f'Epoch {epoch+1}/{epochs}, Loss: {loss_value}')\n",
        "\n",
        "# Testing the ANN\n",
        "z1_test = np.dot(X_test, W1) + b1\n",
        "a1_test = sigmoid(z1_test)\n",
        "z2_test = np.dot(a1_test, W2) + b2\n",
        "a2_test = sigmoid(z2_test)\n",
        "\n",
        "predictions = (a2_test > 0.5).astype(int)\n",
        "accuracy = np.mean(predictions == y_test.reshape(-1, 1))\n",
        "print(f'Test Accuracy: {accuracy * 100:.2f}%')\n",
        "\n",
        "\n"
      ]
    }
  ]
}