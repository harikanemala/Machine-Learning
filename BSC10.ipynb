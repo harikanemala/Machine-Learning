{
  "nbformat": 4,
  "nbformat_minor": 0,
  "metadata": {
    "colab": {
      "provenance": [],
      "authorship_tag": "ABX9TyOSvzsmFUQ0lAq1ytfr54SB",
      "include_colab_link": true
    },
    "kernelspec": {
      "name": "python3",
      "display_name": "Python 3"
    },
    "language_info": {
      "name": "python"
    }
  },
  "cells": [
    {
      "cell_type": "markdown",
      "metadata": {
        "id": "view-in-github",
        "colab_type": "text"
      },
      "source": [
        "<a href=\"https://colab.research.google.com/github/harikanemala/Machine-Learning/blob/main/BSC10.ipynb\" target=\"_parent\"><img src=\"https://colab.research.google.com/assets/colab-badge.svg\" alt=\"Open In Colab\"/></a>"
      ]
    },
    {
      "cell_type": "code",
      "execution_count": 1,
      "metadata": {
        "colab": {
          "base_uri": "https://localhost:8080/"
        },
        "id": "jg7li1ksKj5d",
        "outputId": "4924c6f6-aa78-488c-8a58-2b192169bcb3"
      },
      "outputs": [
        {
          "output_type": "stream",
          "name": "stdout",
          "text": [
            "Accuracy: 100.00%\n",
            "Precision: 100.00%\n",
            "Recall: 100.00%\n",
            "Document: \"I love solving problems\"\n",
            "Actual Label: 1, Predicted Label: 1\n",
            "----------------------------------------\n",
            "Document: \"Python is great for data science\"\n",
            "Actual Label: 1, Predicted Label: 1\n",
            "----------------------------------------\n",
            "Document: \"Debugging can be challenging\"\n",
            "Actual Label: 0, Predicted Label: 0\n",
            "----------------------------------------\n"
          ]
        }
      ],
      "source": [
        "\n",
        "\n",
        "\n",
        "from sklearn.model_selection import train_test_split\n",
        "from sklearn.feature_extraction.text import CountVectorizer\n",
        "from sklearn.naive_bayes import MultinomialNB\n",
        "from sklearn.metrics import accuracy_score, precision_score, recall_score\n",
        "\n",
        "# Sample dataset (documents and their corresponding classes)\n",
        "documents = [\n",
        "    \"I love programming in Python\",\n",
        "    \"Python is great for data science\",\n",
        "    \"I enjoy learning about machine learning\",\n",
        "    \"Machine learning is fascinating\",\n",
        "    \"I dislike debugging code\",\n",
        "    \"Debugging can be challenging\",\n",
        "    \"I hate syntax errors\",\n",
        "    \"Syntax errors are frustrating\",\n",
        "    \"I love solving problems\",\n",
        "    \"Problem-solving is rewarding\"\n",
        "]\n",
        "\n",
        "labels = [1, 1, 1, 1, 0, 0, 0, 0, 1, 1]  # 1: Positive, 0: Negative\n",
        "\n",
        "# Splitting the dataset\n",
        "X_train, X_test, y_train, y_test = train_test_split(documents, labels, test_size=0.3, random_state=42)\n",
        "\n",
        "# Text vectorization\n",
        "vectorizer = CountVectorizer()\n",
        "X_train_vectorized = vectorizer.fit_transform(X_train)\n",
        "X_test_vectorized = vectorizer.transform(X_test)\n",
        "\n",
        "# Naïve Bayes Classifier\n",
        "nb_classifier = MultinomialNB()\n",
        "nb_classifier.fit(X_train_vectorized, y_train)\n",
        "\n",
        "# Predictions\n",
        "predictions = nb_classifier.predict(X_test_vectorized)\n",
        "\n",
        "# Evaluation metrics\n",
        "accuracy = accuracy_score(y_test, predictions)\n",
        "precision = precision_score(y_test, predictions)\n",
        "recall = recall_score(y_test, predictions)\n",
        "\n",
        "# Display results\n",
        "print(f'Accuracy: {accuracy * 100:.2f}%')\n",
        "print(f'Precision: {precision * 100:.2f}%')\n",
        "print(f'Recall: {recall * 100:.2f}%')\n",
        "\n",
        "# Display predictions\n",
        "for doc, actual, pred in zip(X_test, y_test, predictions):\n",
        "    print(f'Document: \"{doc}\"')\n",
        "    print(f'Actual Label: {actual}, Predicted Label: {pred}')\n",
        "    print('-' * 40)\n",
        "\n"
      ]
    }
  ]
}